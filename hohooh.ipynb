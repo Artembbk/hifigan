{
 "cells": [
  {
   "cell_type": "code",
   "execution_count": 13,
   "metadata": {},
   "outputs": [
    {
     "name": "stdout",
     "output_type": "stream",
     "text": [
      "Defaulting to user installation because normal site-packages is not writeable\n",
      "Requirement already satisfied: speechbrain in /home/artem/.local/lib/python3.10/site-packages (0.5.16)\n",
      "Requirement already satisfied: hyperpyyaml in /home/artem/.local/lib/python3.10/site-packages (from speechbrain) (1.2.2)\n",
      "Requirement already satisfied: numpy in /home/artem/.local/lib/python3.10/site-packages (from speechbrain) (1.26.0)\n",
      "Requirement already satisfied: joblib in /home/artem/.local/lib/python3.10/site-packages (from speechbrain) (1.3.2)\n",
      "Requirement already satisfied: torchaudio in /home/artem/.local/lib/python3.10/site-packages (from speechbrain) (2.1.1)\n",
      "Requirement already satisfied: packaging in /usr/lib/python3/dist-packages (from speechbrain) (21.3)\n",
      "Requirement already satisfied: huggingface-hub in /home/artem/.local/lib/python3.10/site-packages (from speechbrain) (0.19.4)\n",
      "Requirement already satisfied: torch>=1.9 in /home/artem/.local/lib/python3.10/site-packages (from speechbrain) (2.1.1)\n",
      "Requirement already satisfied: sentencepiece in /home/artem/.local/lib/python3.10/site-packages (from speechbrain) (0.1.99)\n",
      "Requirement already satisfied: tqdm in /usr/lib/python3/dist-packages (from speechbrain) (4.57.0)\n",
      "Requirement already satisfied: scipy in /usr/lib/python3/dist-packages (from speechbrain) (1.8.0)\n",
      "Requirement already satisfied: nvidia-cudnn-cu12==8.9.2.26 in /home/artem/.local/lib/python3.10/site-packages (from torch>=1.9->speechbrain) (8.9.2.26)\n",
      "Requirement already satisfied: jinja2 in /usr/lib/python3/dist-packages (from torch>=1.9->speechbrain) (3.0.3)\n",
      "Requirement already satisfied: filelock in /home/artem/.local/lib/python3.10/site-packages (from torch>=1.9->speechbrain) (3.13.1)\n",
      "Requirement already satisfied: nvidia-cuda-runtime-cu12==12.1.105 in /home/artem/.local/lib/python3.10/site-packages (from torch>=1.9->speechbrain) (12.1.105)\n",
      "Requirement already satisfied: nvidia-cufft-cu12==11.0.2.54 in /home/artem/.local/lib/python3.10/site-packages (from torch>=1.9->speechbrain) (11.0.2.54)\n",
      "Requirement already satisfied: fsspec in /home/artem/.local/lib/python3.10/site-packages (from torch>=1.9->speechbrain) (2023.10.0)\n",
      "Requirement already satisfied: nvidia-cuda-cupti-cu12==12.1.105 in /home/artem/.local/lib/python3.10/site-packages (from torch>=1.9->speechbrain) (12.1.105)\n",
      "Requirement already satisfied: nvidia-cusparse-cu12==12.1.0.106 in /home/artem/.local/lib/python3.10/site-packages (from torch>=1.9->speechbrain) (12.1.0.106)\n",
      "Requirement already satisfied: nvidia-nvtx-cu12==12.1.105 in /home/artem/.local/lib/python3.10/site-packages (from torch>=1.9->speechbrain) (12.1.105)\n",
      "Requirement already satisfied: typing-extensions in /home/artem/.local/lib/python3.10/site-packages (from torch>=1.9->speechbrain) (4.8.0)\n",
      "Requirement already satisfied: nvidia-nccl-cu12==2.18.1 in /home/artem/.local/lib/python3.10/site-packages (from torch>=1.9->speechbrain) (2.18.1)\n",
      "Requirement already satisfied: nvidia-cusolver-cu12==11.4.5.107 in /home/artem/.local/lib/python3.10/site-packages (from torch>=1.9->speechbrain) (11.4.5.107)\n",
      "Requirement already satisfied: nvidia-cublas-cu12==12.1.3.1 in /home/artem/.local/lib/python3.10/site-packages (from torch>=1.9->speechbrain) (12.1.3.1)\n",
      "Requirement already satisfied: nvidia-curand-cu12==10.3.2.106 in /home/artem/.local/lib/python3.10/site-packages (from torch>=1.9->speechbrain) (10.3.2.106)\n",
      "Requirement already satisfied: triton==2.1.0 in /home/artem/.local/lib/python3.10/site-packages (from torch>=1.9->speechbrain) (2.1.0)\n",
      "Requirement already satisfied: sympy in /usr/lib/python3/dist-packages (from torch>=1.9->speechbrain) (1.9)\n",
      "Requirement already satisfied: nvidia-cuda-nvrtc-cu12==12.1.105 in /home/artem/.local/lib/python3.10/site-packages (from torch>=1.9->speechbrain) (12.1.105)\n",
      "Requirement already satisfied: networkx in /home/artem/.local/lib/python3.10/site-packages (from torch>=1.9->speechbrain) (3.2.1)\n",
      "Requirement already satisfied: nvidia-nvjitlink-cu12 in /home/artem/.local/lib/python3.10/site-packages (from nvidia-cusolver-cu12==11.4.5.107->torch>=1.9->speechbrain) (12.3.101)\n",
      "Requirement already satisfied: pyyaml>=5.1 in /usr/lib/python3/dist-packages (from huggingface-hub->speechbrain) (5.4.1)\n",
      "Requirement already satisfied: requests in /usr/lib/python3/dist-packages (from huggingface-hub->speechbrain) (2.25.1)\n",
      "Requirement already satisfied: ruamel.yaml>=0.17.28 in /home/artem/.local/lib/python3.10/site-packages (from hyperpyyaml->speechbrain) (0.18.5)\n",
      "Requirement already satisfied: ruamel.yaml.clib>=0.2.7 in /home/artem/.local/lib/python3.10/site-packages (from ruamel.yaml>=0.17.28->hyperpyyaml->speechbrain) (0.2.8)\n",
      "Defaulting to user installation because normal site-packages is not writeable\n",
      "Requirement already satisfied: wandb in /home/artem/.local/lib/python3.10/site-packages (0.16.0)\n",
      "Requirement already satisfied: psutil>=5.0.0 in /home/artem/.local/lib/python3.10/site-packages (from wandb) (5.9.5)\n",
      "Requirement already satisfied: PyYAML in /usr/lib/python3/dist-packages (from wandb) (5.4.1)\n",
      "Requirement already satisfied: setproctitle in /home/artem/.local/lib/python3.10/site-packages (from wandb) (1.3.3)\n",
      "Requirement already satisfied: sentry-sdk>=1.0.0 in /home/artem/.local/lib/python3.10/site-packages (from wandb) (1.35.0)\n",
      "Requirement already satisfied: Click!=8.0.0,>=7.1 in /usr/lib/python3/dist-packages (from wandb) (8.0.3)\n",
      "Requirement already satisfied: appdirs>=1.4.3 in /usr/lib/python3/dist-packages (from wandb) (1.4.4)\n",
      "Requirement already satisfied: protobuf!=4.21.0,<5,>=3.19.0 in /home/artem/.local/lib/python3.10/site-packages (from wandb) (4.25.1)\n",
      "Requirement already satisfied: docker-pycreds>=0.4.0 in /home/artem/.local/lib/python3.10/site-packages (from wandb) (0.4.0)\n",
      "Requirement already satisfied: GitPython!=3.1.29,>=1.0.0 in /home/artem/.local/lib/python3.10/site-packages (from wandb) (3.1.40)\n",
      "Requirement already satisfied: requests<3,>=2.0.0 in /usr/lib/python3/dist-packages (from wandb) (2.25.1)\n",
      "Requirement already satisfied: setuptools in /usr/lib/python3/dist-packages (from wandb) (59.6.0)\n",
      "Requirement already satisfied: six>=1.4.0 in /usr/lib/python3/dist-packages (from docker-pycreds>=0.4.0->wandb) (1.16.0)\n",
      "Requirement already satisfied: gitdb<5,>=4.0.1 in /home/artem/.local/lib/python3.10/site-packages (from GitPython!=3.1.29,>=1.0.0->wandb) (4.0.11)\n",
      "Requirement already satisfied: certifi in /usr/lib/python3/dist-packages (from sentry-sdk>=1.0.0->wandb) (2020.6.20)\n",
      "Requirement already satisfied: urllib3>=1.26.11 in /home/artem/.local/lib/python3.10/site-packages (from sentry-sdk>=1.0.0->wandb) (2.1.0)\n",
      "Requirement already satisfied: smmap<6,>=3.0.1 in /home/artem/.local/lib/python3.10/site-packages (from gitdb<5,>=4.0.1->GitPython!=3.1.29,>=1.0.0->wandb) (5.0.1)\n",
      "Note: you may need to restart the kernel to use updated packages.\n"
     ]
    }
   ],
   "source": [
    "!pip install speechbrain\n",
    "%pip install wandb"
   ]
  },
  {
   "cell_type": "code",
   "execution_count": 23,
   "metadata": {},
   "outputs": [
    {
     "name": "stdout",
     "output_type": "stream",
     "text": [
      "/usr/lib/python3/dist-packages/requests/__init__.py:87: RequestsDependencyWarning: urllib3 (2.1.0) or chardet (4.0.0) doesn't match a supported version!\n",
      "  warnings.warn(\"urllib3 ({}) or chardet ({}) doesn't match a supported \"\n",
      "/usr/lib/python3/dist-packages/scipy/__init__.py:146: UserWarning: A NumPy version >=1.17.3 and <1.25.0 is required for this version of SciPy (detected version 1.26.0\n",
      "  warnings.warn(f\"A NumPy version >={np_minversion} and <{np_maxversion}\"\n",
      "torchvision is not available - cannot save figures\n",
      "0 (0.0%) records are longer then 20.0 seconds. Excluding them.\n",
      "10 True True\n"
     ]
    }
   ],
   "source": [
    "!python3 train.py --config=/home/artem/hifigan/configs/config.json"
   ]
  },
  {
   "cell_type": "code",
   "execution_count": null,
   "metadata": {},
   "outputs": [],
   "source": []
  }
 ],
 "metadata": {
  "kernelspec": {
   "display_name": "Python 3",
   "language": "python",
   "name": "python3"
  },
  "language_info": {
   "codemirror_mode": {
    "name": "ipython",
    "version": 3
   },
   "file_extension": ".py",
   "mimetype": "text/x-python",
   "name": "python",
   "nbconvert_exporter": "python",
   "pygments_lexer": "ipython3",
   "version": "3.10.12"
  }
 },
 "nbformat": 4,
 "nbformat_minor": 2
}
